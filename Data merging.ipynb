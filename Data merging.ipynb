{
 "cells": [
  {
   "cell_type": "code",
   "execution_count": 1,
   "id": "e6692f78",
   "metadata": {},
   "outputs": [],
   "source": [
    "import pandas as pd\n"
   ]
  },
  {
   "cell_type": "code",
   "execution_count": 2,
   "id": "dc4756a3",
   "metadata": {},
   "outputs": [],
   "source": [
    "#1. Read the path of each document\n",
    "ai_path = r\"D:\\25Spring\\MSE641\\research\\ai_model_predictions.csv\\ai_model_predictions.csv\"\n",
    "gpatent_path = r\"D:\\patent research\\g_patent.tsv\\g_patent.tsv\"\n",
    "gassignee_path = r\"D:\\patent research\\g_assignee_disambiguated.tsv\\g_assignee_disambiguated.tsv\"\n",
    "pvabstract_path = r\"E:\\Waterloo-onedrive\\OneDrive - University of Waterloo\\MSE 641\\g_patent_abstract.tsv\\g_patent_abstract.tsv\""
   ]
  },
  {
   "cell_type": "code",
   "execution_count": 3,
   "id": "506da140",
   "metadata": {},
   "outputs": [
    {
     "name": "stderr",
     "output_type": "stream",
     "text": [
      "C:\\Users\\Yue Qiao\\AppData\\Local\\Temp\\ipykernel_13908\\1595735438.py:22: DtypeWarning: Columns (0,1) have mixed types. Specify dtype option on import or set low_memory=False.\n",
      "  pv_abstract = pd.read_csv(pvabstract_path, sep = '\\t')\n"
     ]
    },
    {
     "name": "stdout",
     "output_type": "stream",
     "text": [
      "_merge\n",
      "both          8451107\n",
      "left_only           0\n",
      "right_only          0\n",
      "Name: count, dtype: int64\n"
     ]
    }
   ],
   "source": [
    "gpatent_usecols = [\n",
    "    'patent_id', 'patent_type', 'patent_date',\n",
    "    'patent_title', 'num_claims', 'withdrawn'\n",
    "]\n",
    "gassignee_usecols = [\n",
    "    'patent_id', 'disambig_assignee_organization', 'assignee_type'\n",
    "]\n",
    "gpatent_df = pd.read_csv(\n",
    "    gpatent_path,\n",
    "    sep='\\t',\n",
    "    usecols=gpatent_usecols,\n",
    "    dtype=str,\n",
    "    low_memory=True\n",
    ")\n",
    "gassignee_df = pd.read_csv(\n",
    "    gassignee_path,\n",
    "    sep='\\t',\n",
    "    usecols=gassignee_usecols,\n",
    "    dtype=str,\n",
    "    low_memory=True\n",
    ")\n",
    "pv_abstract = pd.read_csv(pvabstract_path, sep = '\\t')\n",
    "#2. Merge the data based on the unique id\n",
    "# normalize the data\n",
    "for df in [gpatent_df, gassignee_df,pv_abstract]:\n",
    "    df['patent_id'] = df['patent_id'].astype(str) \\\n",
    "                                        .str.strip() \\\n",
    "                                        .str.upper()\n",
    "gpatent_df = gpatent_df[gpatent_df['withdrawn'] != '1'].drop(columns=['withdrawn'])\n",
    "pv_merged = pd.merge(\n",
    "    gpatent_df,\n",
    "    gassignee_df,\n",
    "    on='patent_id',\n",
    "    how='inner',\n",
    "    indicator=True\n",
    ")\n",
    "\n",
    "# print the result\n",
    "print(pv_merged['_merge'].value_counts())\n",
    "pv_merged = pv_merged.drop(columns=['_merge'])\n",
    "\n"
   ]
  },
  {
   "cell_type": "code",
   "execution_count": 4,
   "id": "aa3c64c6",
   "metadata": {},
   "outputs": [
    {
     "name": "stdout",
     "output_type": "stream",
     "text": [
      "_merge\n",
      "both          3401581\n",
      "left_only           0\n",
      "right_only          0\n",
      "Name: count, dtype: int64\n"
     ]
    }
   ],
   "source": [
    "#3. Drop unwanted columns and duplicate patent_id\n",
    "pv_merged = pv_merged.drop_duplicates(subset=['patent_id'])\n",
    "#5. Convert patent_date to datetime format (MM/DD/YYYY)\n",
    "\n",
    "#6. Drop off unnecessary columns and data\n",
    "pv_merged['patent_date'] = pd.to_datetime(\n",
    "    pv_merged['patent_date'],\n",
    "    format='%Y-%m-%d',\n",
    "    errors='coerce'\n",
    ")\n",
    "filtered_df = pv_merged[pv_merged['patent_date'].dt.year >= 2015]\n",
    "\n",
    "pv_final = pd.merge(\n",
    "    filtered_df,\n",
    "    pv_abstract,\n",
    "    on='patent_id',\n",
    "    how='inner',\n",
    "    indicator=True\n",
    ")\n",
    "\n",
    "print(pv_final['_merge'].value_counts())"
   ]
  },
  {
   "cell_type": "code",
   "execution_count": 5,
   "id": "e58a1a38",
   "metadata": {},
   "outputs": [],
   "source": [
    "# ai_columns = pd.read_csv(ai_path, sep='\\t', dtype=str, nrows=0).columns.tolist()\n",
    "# print(ai_columns)"
   ]
  },
  {
   "cell_type": "code",
   "execution_count": 6,
   "id": "97d68c8d",
   "metadata": {},
   "outputs": [],
   "source": [
    "\n",
    "ai_df = pd.read_csv(ai_path, dtype=str, low_memory=True)\n",
    "cols_to_drop = ['flag_patent', 'appl_id', 'predict50_any_ai', 'predict86_any_ai']\n",
    "ai_df = ai_df.drop(columns=cols_to_drop)\n",
    "ai_df = ai_df[ai_df['predict93_any_ai'] == '1'].copy()\n",
    "ai_df['pub_dt'] = pd.to_datetime(ai_df['pub_dt'], errors='coerce')\n",
    "ai_df = ai_df[ai_df['pub_dt'].dt.year >= 2015]\n",
    "ai_df['doc_id_clean'] = ai_df['doc_id'].str.strip().str.upper()\n",
    "\n",
    "\n"
   ]
  },
  {
   "cell_type": "code",
   "execution_count": 10,
   "id": "3d8fea2c",
   "metadata": {},
   "outputs": [
    {
     "name": "stdout",
     "output_type": "stream",
     "text": [
      "_merge\n",
      "both          528673\n",
      "left_only          0\n",
      "right_only         0\n",
      "Name: count, dtype: int64\n"
     ]
    }
   ],
   "source": [
    "pv_final.drop(columns=['_merge'], errors='ignore', inplace=True)\n",
    "merged_df = pd.merge(\n",
    "    ai_df,\n",
    "    pv_final,\n",
    "    left_on='doc_id_clean',\n",
    "    right_on='patent_id',\n",
    "    how='inner',\n",
    "    indicator=True\n",
    ")\n",
    "print(merged_df['_merge'].value_counts())\n"
   ]
  },
  {
   "cell_type": "code",
   "execution_count": null,
   "id": "ffec7d04",
   "metadata": {},
   "outputs": [],
   "source": [
    "cols_to_drop = [\n",
    "    'predict93_any_ai',\n",
    "    'doc_id_clean',\n",
    "    'doc_id',\n",
    "    'patent_date',\n",
    "    '_merge'\n",
    "]\n",
    "prefix_cols_to_drop = [col for col in merged_df.columns if col.startswith('predict50_') or col.startswith('predict86')]\n",
    "all_cols_to_drop = cols_to_drop + prefix_cols_to_drop\n",
    "merged_df = merged_df.drop(columns=all_cols_to_drop)\n",
    "output_path = r\"E:\\Waterloo-onedrive\\OneDrive - University of Waterloo\\MSE 641\\Merged Data\\Merged_data_original.csv\"\n",
    "merged_df.to_csv(output_path, index=False)"
   ]
  },
  {
   "cell_type": "code",
   "execution_count": 4,
   "id": "ece5602d",
   "metadata": {},
   "outputs": [
    {
     "name": "stderr",
     "output_type": "stream",
     "text": [
      "C:\\Users\\Yue Qiao\\AppData\\Local\\Temp\\ipykernel_34940\\625613034.py:5: DtypeWarning: Columns (17) have mixed types. Specify dtype option on import or set low_memory=False.\n",
      "  patent_df = pd.read_csv(input_path, sep=',', encoding='utf-8')\n",
      "C:\\Users\\Yue Qiao\\AppData\\Local\\Temp\\ipykernel_34940\\625613034.py:7: SettingWithCopyWarning: \n",
      "A value is trying to be set on a copy of a slice from a DataFrame.\n",
      "Try using .loc[row_indexer,col_indexer] = value instead\n",
      "\n",
      "See the caveats in the documentation: https://pandas.pydata.org/pandas-docs/stable/user_guide/indexing.html#returning-a-view-versus-a-copy\n",
      "  ml_df['patent_text'] = (ml_df['patent_title'].fillna('') + '. ' + ml_df['patent_abstract'].fillna('')).str.strip()\n"
     ]
    }
   ],
   "source": [
    "# Confirm the final merge data\n",
    "\n",
    "import pandas as pd\n",
    "input_path = r\"E:\\Waterloo-onedrive\\OneDrive - University of Waterloo\\MSE 641\\Merged Data\\Merged_data_original.csv\"\n",
    "patent_df = pd.read_csv(input_path, sep=',', encoding='utf-8')\n",
    "ml_df = patent_df[patent_df['predict93_ml'] == 1]\n",
    "ml_df['patent_text'] = (ml_df['patent_title'].fillna('') + '. ' + ml_df['patent_abstract'].fillna('')).str.strip()\n",
    "\n",
    "output_path = r\"E:\\Waterloo-onedrive\\OneDrive - University of Waterloo\\MSE 641\\Merged Data\\Merged_data_ML.csv\"\n",
    "ml_df.to_csv(output_path, index=False)"
   ]
  },
  {
   "cell_type": "code",
   "execution_count": null,
   "id": "063f8632",
   "metadata": {},
   "outputs": [],
   "source": []
  }
 ],
 "metadata": {
  "kernelspec": {
   "display_name": "myenv",
   "language": "python",
   "name": "python3"
  },
  "language_info": {
   "codemirror_mode": {
    "name": "ipython",
    "version": 3
   },
   "file_extension": ".py",
   "mimetype": "text/x-python",
   "name": "python",
   "nbconvert_exporter": "python",
   "pygments_lexer": "ipython3",
   "version": "3.13.5"
  }
 },
 "nbformat": 4,
 "nbformat_minor": 5
}
